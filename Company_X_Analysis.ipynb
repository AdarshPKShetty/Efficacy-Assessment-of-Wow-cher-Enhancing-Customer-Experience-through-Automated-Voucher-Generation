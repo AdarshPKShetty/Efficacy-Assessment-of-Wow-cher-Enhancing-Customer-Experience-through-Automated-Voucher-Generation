{
 "cells": [
  {
   "cell_type": "code",
   "execution_count": 1,
   "id": "c5bacfee",
   "metadata": {},
   "outputs": [],
   "source": [
    "import pandas as pd\n",
    "import numpy as np"
   ]
  },
  {
   "cell_type": "code",
   "execution_count": 2,
   "id": "b90b2c79",
   "metadata": {},
   "outputs": [],
   "source": [
    "df=pd.read_csv('data1_join.csv')"
   ]
  },
  {
   "cell_type": "code",
   "execution_count": 26,
   "id": "e36c41ec",
   "metadata": {},
   "outputs": [],
   "source": [
    "pt1=dict()\n",
    "for i in df.customer_id.unique():\n",
    "    cust=dict()\n",
    "    cust['event_id']=df[(df.customer_id)==i ]['event_id'].nunique()\n",
    "    cust['survey_id']=df[(df.customer_id)==i ]['survey_id'].nunique()\n",
    "    cust['action_type']=df[(df.customer_id)==i ]['action_type'].nunique()\n",
    "    pt1[i]=cust"
   ]
  },
  {
   "cell_type": "code",
   "execution_count": 29,
   "id": "18e18f05",
   "metadata": {},
   "outputs": [],
   "source": [
    "df2=pd.DataFrame(pt1).T"
   ]
  },
  {
   "cell_type": "code",
   "execution_count": 34,
   "id": "2b2f5bc9",
   "metadata": {},
   "outputs": [],
   "source": [
    "df2.loc[df2.event_id>1,'event_flag']='multiple'\n",
    "df2.loc[df2.event_id==1,'event_flag']='single'"
   ]
  },
  {
   "cell_type": "code",
   "execution_count": 35,
   "id": "bcd01b97",
   "metadata": {},
   "outputs": [],
   "source": [
    "df2.loc[df2.survey_id>1,'survey_flag']='multiple'\n",
    "df2.loc[df2.survey_id==1,'survey_flag']='single'"
   ]
  },
  {
   "cell_type": "code",
   "execution_count": 36,
   "id": "8cfbd72c",
   "metadata": {},
   "outputs": [],
   "source": [
    "df2.loc[df2.action_type>1,'action_flag']='multiple'\n",
    "df2.loc[df2.action_type==1,'action_flag']='single'"
   ]
  },
  {
   "cell_type": "code",
   "execution_count": 50,
   "id": "3dffb38b",
   "metadata": {},
   "outputs": [
    {
     "data": {
      "text/html": [
       "<div>\n",
       "<style scoped>\n",
       "    .dataframe tbody tr th:only-of-type {\n",
       "        vertical-align: middle;\n",
       "    }\n",
       "\n",
       "    .dataframe tbody tr th {\n",
       "        vertical-align: top;\n",
       "    }\n",
       "\n",
       "    .dataframe thead th {\n",
       "        text-align: right;\n",
       "    }\n",
       "</style>\n",
       "<table border=\"1\" class=\"dataframe\">\n",
       "  <thead>\n",
       "    <tr style=\"text-align: right;\">\n",
       "      <th></th>\n",
       "      <th>action_flag</th>\n",
       "      <th>multiple</th>\n",
       "      <th>single</th>\n",
       "    </tr>\n",
       "    <tr>\n",
       "      <th>survey_flag</th>\n",
       "      <th>event_flag</th>\n",
       "      <th></th>\n",
       "      <th></th>\n",
       "    </tr>\n",
       "  </thead>\n",
       "  <tbody>\n",
       "    <tr>\n",
       "      <th rowspan=\"2\" valign=\"top\">multiple</th>\n",
       "      <th>multiple</th>\n",
       "      <td>0.48</td>\n",
       "      <td>0.54</td>\n",
       "    </tr>\n",
       "    <tr>\n",
       "      <th>single</th>\n",
       "      <td>0.00</td>\n",
       "      <td>0.19</td>\n",
       "    </tr>\n",
       "    <tr>\n",
       "      <th rowspan=\"2\" valign=\"top\">single</th>\n",
       "      <th>multiple</th>\n",
       "      <td>0.64</td>\n",
       "      <td>0.78</td>\n",
       "    </tr>\n",
       "    <tr>\n",
       "      <th>single</th>\n",
       "      <td>0.00</td>\n",
       "      <td>93.08</td>\n",
       "    </tr>\n",
       "  </tbody>\n",
       "</table>\n",
       "</div>"
      ],
      "text/plain": [
       "action_flag             multiple  single\n",
       "survey_flag event_flag                  \n",
       "multiple    multiple        0.48    0.54\n",
       "            single          0.00    0.19\n",
       "single      multiple        0.64    0.78\n",
       "            single          0.00   93.08"
      ]
     },
     "execution_count": 50,
     "metadata": {},
     "output_type": "execute_result"
    }
   ],
   "source": [
    "(pd.pivot_table(data=df2, index=['survey_flag','event_flag'], columns='action_flag', values='action_type' ,aggfunc='count').fillna(0)/df.shape[0]*100).round(2)"
   ]
  },
  {
   "cell_type": "code",
   "execution_count": 165,
   "id": "13371311",
   "metadata": {},
   "outputs": [
    {
     "data": {
      "text/html": [
       "<div>\n",
       "<style scoped>\n",
       "    .dataframe tbody tr th:only-of-type {\n",
       "        vertical-align: middle;\n",
       "    }\n",
       "\n",
       "    .dataframe tbody tr th {\n",
       "        vertical-align: top;\n",
       "    }\n",
       "\n",
       "    .dataframe thead th {\n",
       "        text-align: right;\n",
       "    }\n",
       "</style>\n",
       "<table border=\"1\" class=\"dataframe\">\n",
       "  <thead>\n",
       "    <tr style=\"text-align: right;\">\n",
       "      <th></th>\n",
       "      <th>action_flag</th>\n",
       "      <th>multiple</th>\n",
       "      <th>single</th>\n",
       "    </tr>\n",
       "    <tr>\n",
       "      <th>survey_flag</th>\n",
       "      <th>event_flag</th>\n",
       "      <th></th>\n",
       "      <th></th>\n",
       "    </tr>\n",
       "  </thead>\n",
       "  <tbody>\n",
       "    <tr>\n",
       "      <th rowspan=\"2\" valign=\"top\">multiple</th>\n",
       "      <th>multiple</th>\n",
       "      <td>185.0</td>\n",
       "      <td>211.0</td>\n",
       "    </tr>\n",
       "    <tr>\n",
       "      <th>single</th>\n",
       "      <td>0.0</td>\n",
       "      <td>75.0</td>\n",
       "    </tr>\n",
       "    <tr>\n",
       "      <th rowspan=\"2\" valign=\"top\">single</th>\n",
       "      <th>multiple</th>\n",
       "      <td>251.0</td>\n",
       "      <td>303.0</td>\n",
       "    </tr>\n",
       "    <tr>\n",
       "      <th>single</th>\n",
       "      <td>0.0</td>\n",
       "      <td>36234.0</td>\n",
       "    </tr>\n",
       "  </tbody>\n",
       "</table>\n",
       "</div>"
      ],
      "text/plain": [
       "action_flag             multiple   single\n",
       "survey_flag event_flag                   \n",
       "multiple    multiple       185.0    211.0\n",
       "            single           0.0     75.0\n",
       "single      multiple       251.0    303.0\n",
       "            single           0.0  36234.0"
      ]
     },
     "execution_count": 165,
     "metadata": {},
     "output_type": "execute_result"
    }
   ],
   "source": [
    "pd.pivot_table(data=df2, index=['survey_flag','event_flag'], columns='action_flag', values='action_type' ,aggfunc='count').fillna(0)"
   ]
  },
  {
   "cell_type": "code",
   "execution_count": null,
   "id": "fa4eabe7",
   "metadata": {},
   "outputs": [],
   "source": []
  }
 ],
 "metadata": {
  "kernelspec": {
   "display_name": "Python 3",
   "language": "python",
   "name": "python3"
  },
  "language_info": {
   "codemirror_mode": {
    "name": "ipython",
    "version": 3
   },
   "file_extension": ".py",
   "mimetype": "text/x-python",
   "name": "python",
   "nbconvert_exporter": "python",
   "pygments_lexer": "ipython3",
   "version": "3.8.8"
  }
 },
 "nbformat": 4,
 "nbformat_minor": 5
}
